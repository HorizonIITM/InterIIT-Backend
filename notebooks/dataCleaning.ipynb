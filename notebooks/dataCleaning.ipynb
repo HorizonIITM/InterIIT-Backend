{
 "cells": [
  {
   "cell_type": "code",
   "execution_count": 72,
   "id": "swedish-pacific",
   "metadata": {
    "execution": {
     "iopub.execute_input": "2021-03-24T09:44:00.533416Z",
     "iopub.status.busy": "2021-03-24T09:44:00.533416Z",
     "iopub.status.idle": "2021-03-24T09:44:00.545965Z",
     "shell.execute_reply": "2021-03-24T09:44:00.544418Z",
     "shell.execute_reply.started": "2021-03-24T09:44:00.533416Z"
    },
    "tags": []
   },
   "outputs": [],
   "source": [
    "import pandas as pd\n",
    "import requests"
   ]
  },
  {
   "cell_type": "code",
   "execution_count": 73,
   "id": "destroyed-arrow",
   "metadata": {
    "execution": {
     "iopub.execute_input": "2021-03-24T09:44:00.546970Z",
     "iopub.status.busy": "2021-03-24T09:44:00.546970Z",
     "iopub.status.idle": "2021-03-24T09:44:00.593742Z",
     "shell.execute_reply": "2021-03-24T09:44:00.591742Z",
     "shell.execute_reply.started": "2021-03-24T09:44:00.546970Z"
    },
    "tags": []
   },
   "outputs": [],
   "source": [
    "OBS_CAT = r\"../data/AS_observations_cat_Sept2018.txt\"\n",
    "BIB_CAT = r\"../data/AS_publications2019-21.txt\""
   ]
  },
  {
   "cell_type": "code",
   "execution_count": 74,
   "id": "difficult-column",
   "metadata": {
    "execution": {
     "iopub.execute_input": "2021-03-24T09:44:00.596743Z",
     "iopub.status.busy": "2021-03-24T09:44:00.595743Z",
     "iopub.status.idle": "2021-03-24T09:44:00.624749Z",
     "shell.execute_reply": "2021-03-24T09:44:00.622749Z",
     "shell.execute_reply.started": "2021-03-24T09:44:00.596743Z"
    },
    "tags": []
   },
   "outputs": [],
   "source": [
    "def byteIndexDict(path:str, lines:list, byteC:list, labelC:list)->dict:\n",
    "    \"\"\"\n",
    "    Reads the README file for the byte-to-byte description of the\n",
    "    dat files and makes a dictionary of data labels and their indices.\n",
    "    To be used inside a function to retrieve data from dat file and\n",
    "    make a DataFrame object out of it.\n",
    "    \n",
    "    path - path to the README file\n",
    "    lines - list containing starting and ending index of relevant lines\n",
    "    byteC - column number of the byte indices\n",
    "    labelC - column number of the label\n",
    "    \"\"\"\n",
    "    with open(path,\"r\") as f: \n",
    "        def isValid(line):\n",
    "            return line[byteC[0]:byteC[1]]!=7*\" \" and line[labelC[0]:labelC[1]]!=3*\"-\"\n",
    "        descLines = f.readlines()[lines[0]:lines[1]]\n",
    "        byteIndex = [[int(byt) for byt in line[byteC[0]:byteC[1]].split(\"-\")] \n",
    "                     for line in descLines if isValid(line)]\n",
    "        dataLabel = [line[labelC[0]:labelC[1]].strip() \n",
    "                     for line in descLines if isValid(line)]\n",
    "        byteDict = {}\n",
    "        for _ in range(len(byteIndex)):\n",
    "            byteDict[dataLabel[_]]=byteIndex[_]\n",
    "        return byteDict"
   ]
  },
  {
   "cell_type": "code",
   "execution_count": 75,
   "id": "unusual-arthritis",
   "metadata": {
    "execution": {
     "iopub.execute_input": "2021-03-24T09:44:02.893880Z",
     "iopub.status.busy": "2021-03-24T09:44:02.893880Z",
     "iopub.status.idle": "2021-03-24T09:44:02.912940Z",
     "shell.execute_reply": "2021-03-24T09:44:02.911410Z",
     "shell.execute_reply.started": "2021-03-24T09:44:02.893880Z"
    },
    "tags": []
   },
   "outputs": [],
   "source": [
    "testDict = byteIndexDict(r\"../data/ReadMe\", [64,130], [1,8], [23,32])"
   ]
  },
  {
   "cell_type": "code",
   "execution_count": 76,
   "id": "joint-compensation",
   "metadata": {
    "execution": {
     "iopub.execute_input": "2021-03-24T09:44:03.703380Z",
     "iopub.status.busy": "2021-03-24T09:44:03.703380Z",
     "iopub.status.idle": "2021-03-24T09:44:03.725287Z",
     "shell.execute_reply": "2021-03-24T09:44:03.722779Z",
     "shell.execute_reply.started": "2021-03-24T09:44:03.703380Z"
    },
    "tags": []
   },
   "outputs": [],
   "source": [
    "def makeObsDataFrame(path:str, desc:dict) -> pd.DataFrame:\n",
    "    \"\"\"\n",
    "    Takes in .dat file and a byte-to-byte description dict\n",
    "    to yeild a DataFrame equivalent of the dat file.\n",
    "    \n",
    "    path - path to the dat file\n",
    "    desc - dict file containing the label and indices of data\n",
    "    \"\"\"\n",
    "    dataArray = []\n",
    "    with open(path, 'r') as f:\n",
    "        for line in f.readlines():\n",
    "            line = line[:-2]\n",
    "            data = []\n",
    "            for label in list(desc):\n",
    "                index = desc[label]\n",
    "                if len(index)==1:\n",
    "                    index *= 2\n",
    "                data.append(line[index[0]-1:index[1]].strip())\n",
    "            dataArray.append(data)\n",
    "        df = pd.DataFrame(data=dataArray, columns=list(desc))\n",
    "        return df"
   ]
  },
  {
   "cell_type": "code",
   "execution_count": 77,
   "id": "concerned-touch",
   "metadata": {
    "execution": {
     "iopub.execute_input": "2021-03-24T09:44:05.450529Z",
     "iopub.status.busy": "2021-03-24T09:44:05.450529Z",
     "iopub.status.idle": "2021-03-24T09:44:05.488405Z",
     "shell.execute_reply": "2021-03-24T09:44:05.487405Z",
     "shell.execute_reply.started": "2021-03-24T09:44:05.450529Z"
    },
    "tags": []
   },
   "outputs": [],
   "source": [
    "lmxb = makeObsDataFrame(r\"../data/lmxbcat.dat\",testDict);\n",
    "hmxb = makeObsDataFrame(r\"../data/hmxbcat.dat\",testDict);"
   ]
  },
  {
   "cell_type": "code",
   "execution_count": 9,
   "id": "dated-colorado",
   "metadata": {
    "execution": {
     "iopub.execute_input": "2021-03-24T08:02:03.200471Z",
     "iopub.status.busy": "2021-03-24T08:02:03.199471Z",
     "iopub.status.idle": "2021-03-24T08:02:03.215483Z",
     "shell.execute_reply": "2021-03-24T08:02:03.213914Z",
     "shell.execute_reply.started": "2021-03-24T08:02:03.200471Z"
    },
    "tags": []
   },
   "outputs": [],
   "source": [
    "def _coordsQuery(data: pd.DataFrame, n: int, rad: float):\n",
    "    \"\"\"\n",
    "    Transient function to be used inside coordinatesQuery\n",
    "    for abstraction purposes.\n",
    "    \n",
    "    rad - the radius used in SIMBAD queries\n",
    "    \"\"\"\n",
    "    line = data.iloc[n]\n",
    "    PREFIX = r\"http://simbad.u-strasbg.fr/simbad/sim-coo?output.format=ASCII&Coord=\"\n",
    "    query = requests.get(PREFIX+r\"{}%20{}%20{}%20{}{}%20{}%20{}&Radius={}\".format(\n",
    "        line[\"RAh\"],line[\"RAm\"],line[\"RAs\"],line[\"DE-\"],line[\"DEd\"],line[\"DEm\"],line[\"DEs\"],rad))\n",
    "    return query.text"
   ]
  },
  {
   "cell_type": "code",
   "execution_count": 10,
   "id": "toxic-eligibility",
   "metadata": {
    "execution": {
     "iopub.execute_input": "2021-03-24T08:02:06.953512Z",
     "iopub.status.busy": "2021-03-24T08:02:06.952511Z",
     "iopub.status.idle": "2021-03-24T08:02:06.969078Z",
     "shell.execute_reply": "2021-03-24T08:02:06.967084Z",
     "shell.execute_reply.started": "2021-03-24T08:02:06.953512Z"
    },
    "tags": []
   },
   "outputs": [],
   "source": [
    "def coordinatesQuery(data:pd.DataFrame, n:int):\n",
    "    \"\"\"\n",
    "    Queries SIMBAD for data at n-th row in data object\n",
    "    by choosing a suitable radius of query so as to\n",
    "    obtain the unique result.\n",
    "    \n",
    "    data - DataFrame object of the observation data\n",
    "    n - row index of object to query\n",
    "    \"\"\"\n",
    "    rad = 0.01\n",
    "    STEP = 0.005\n",
    "    query = _coordsQuery(data, n, rad)\n",
    "    def isFiltered(inp):\n",
    "        if inp[:33]==\"!! No astronomical object found :\":\n",
    "            return 2\n",
    "        elif inp.split(\"\\n\\n\")[2][:19]==\"Number of objects :\":\n",
    "            return -1\n",
    "    while(bool(isFiltered(query))):\n",
    "        rad += STEP*isFiltered(query)\n",
    "        query = _coordsQuery(data, n, rad)\n",
    "    return query"
   ]
  },
  {
   "cell_type": "code",
   "execution_count": 40,
   "id": "incorporate-recognition",
   "metadata": {
    "execution": {
     "iopub.execute_input": "2021-03-24T08:24:32.455205Z",
     "iopub.status.busy": "2021-03-24T08:24:32.455205Z",
     "iopub.status.idle": "2021-03-24T08:24:32.463195Z",
     "shell.execute_reply": "2021-03-24T08:24:32.461196Z",
     "shell.execute_reply.started": "2021-03-24T08:24:32.455205Z"
    },
    "tags": []
   },
   "outputs": [],
   "source": [
    "def _idQuery(id:str):\n",
    "    \"\"\"\n",
    "    Transient function to be used inside coordinatesQuery\n",
    "    for abstraction purposes.\n",
    "    \n",
    "    rad - the radius used in SIMBAD queries\n",
    "    \"\"\"\n",
    "    PREFIX = r\"http://simbad.u-strasbg.fr/simbad/sim-id?\"\n",
    "    FORMAT = r\"output.format=ASCII&Ident=\"\n",
    "    query = requests.get(PREFIX+FORMAT+id)\n",
    "    return query.text"
   ]
  },
  {
   "cell_type": "code",
   "execution_count": 60,
   "id": "nutritional-techno",
   "metadata": {
    "execution": {
     "iopub.execute_input": "2021-03-24T08:31:12.606509Z",
     "iopub.status.busy": "2021-03-24T08:31:12.605518Z",
     "iopub.status.idle": "2021-03-24T08:31:12.625612Z",
     "shell.execute_reply": "2021-03-24T08:31:12.624648Z",
     "shell.execute_reply.started": "2021-03-24T08:31:12.606509Z"
    },
    "tags": []
   },
   "outputs": [],
   "source": [
    "def _coordinatesQuery(data:pd.DataFrame, n:int, flag):\n",
    "    \"\"\"\n",
    "    Queries SIMBAD for data at n-th row in data object\n",
    "    by choosing a suitable radius of query so as to\n",
    "    obtain the unique result.\n",
    "    \n",
    "    data - DataFrame object of the observation data\n",
    "    n - row index of object to query\n",
    "    \"\"\"\n",
    "    rad = 0.01\n",
    "    STEP = 0.001\n",
    "    query = _coordsQuery(data, n, rad)\n",
    "    count = [0,0]\n",
    "    factor = 0\n",
    "    shdLoop = True\n",
    "    while(shdLoop):\n",
    "        if query[0]==\"!\":\n",
    "            count[0]+=1\n",
    "            if count[0] > 3:\n",
    "                factor = count[0]**2\n",
    "            else:\n",
    "                factor = 1\n",
    "        elif query.split(\"\\n\\n\")[2][0]==\"N\":\n",
    "            count[1]+=1\n",
    "            if count[1] > 3:\n",
    "                factor = -count[1]**2\n",
    "            else:\n",
    "                factor = -1\n",
    "        else:\n",
    "            shdLoop = False\n",
    "            continue\n",
    "        if count[1] > 15 and factor < 0:\n",
    "            identifier = query.split(\"\\n\\n\")[3].split(\"\\n\")[2].split(\"|\")[2].strip()\n",
    "            query = _idQuery(identifier)\n",
    "            break\n",
    "        rad += STEP*factor\n",
    "        if rad < 0:\n",
    "            rad = rad*STEP\n",
    "        if flag:\n",
    "            print(rad)\n",
    "        query = _coordsQuery(data, n, rad)\n",
    "    return query"
   ]
  },
  {
   "cell_type": "code",
   "execution_count": 9,
   "id": "typical-female",
   "metadata": {
    "execution": {
     "iopub.execute_input": "2021-03-21T11:17:32.153292Z",
     "iopub.status.busy": "2021-03-21T11:17:32.153292Z",
     "iopub.status.idle": "2021-03-21T11:17:32.166280Z",
     "shell.execute_reply": "2021-03-21T11:17:32.165281Z",
     "shell.execute_reply.started": "2021-03-21T11:17:32.153292Z"
    },
    "tags": []
   },
   "outputs": [],
   "source": [
    "def getIdentifier(data:pd.DataFrame, n:int):\n",
    "    \"\"\"\n",
    "    Retrieves a list of identifiers of the object in interest\n",
    "    \n",
    "    data - DataFrame object containing the observation data\n",
    "    n - the object of observation in interest\n",
    "    \"\"\"\n",
    "    identifiers = []\n",
    "    for fields in _coordinatesQuery(data, n, 0).split(\"\\n\\n\"):\n",
    "        if fields[:11]==\"Identifiers\":\n",
    "            lines = fields.split(\"\\n\")\n",
    "            for j in lines[1:]:\n",
    "                for k in range(3):\n",
    "                    identifiers.append(j[k*32:(k+1)*32].strip())\n",
    "    return [i for i in identifiers if i!=\"\"]"
   ]
  },
  {
   "cell_type": "code",
   "execution_count": 10,
   "id": "north-blake",
   "metadata": {
    "execution": {
     "iopub.execute_input": "2021-03-21T11:17:32.167281Z",
     "iopub.status.busy": "2021-03-21T11:17:32.166280Z",
     "iopub.status.idle": "2021-03-21T11:17:32.181299Z",
     "shell.execute_reply": "2021-03-21T11:17:32.181299Z",
     "shell.execute_reply.started": "2021-03-21T11:17:32.167281Z"
    },
    "tags": []
   },
   "outputs": [],
   "source": [
    "def getBibcodes(data:pd.DataFrame, n:int):\n",
    "    \"\"\"\n",
    "    Retrieves a list of bibcodes of the object in interest\n",
    "    \n",
    "    data - DataFrame object containing the observation data\n",
    "    n - the object of observation in interest\n",
    "    \"\"\"\n",
    "    identifiers = []\n",
    "    for fields in _coordinatesQuery(data, n, 0).split(\"\\n\\n\"):\n",
    "        if fields[:8]==\"Bibcodes\":\n",
    "            lines = fields.split(\"\\n\")\n",
    "            for j in lines[1:]:\n",
    "                for k in range(4):\n",
    "                    identifiers.append(j[k*21:(k+1)*21].strip())\n",
    "    return [i for i in identifiers if i!=\"\"]"
   ]
  },
  {
   "cell_type": "code",
   "execution_count": 40,
   "id": "bright-veteran",
   "metadata": {
    "execution": {
     "iopub.execute_input": "2021-03-21T15:00:17.603149Z",
     "iopub.status.busy": "2021-03-21T15:00:17.603149Z",
     "iopub.status.idle": "2021-03-21T15:00:17.611138Z",
     "shell.execute_reply": "2021-03-21T15:00:17.609979Z",
     "shell.execute_reply.started": "2021-03-21T15:00:17.603149Z"
    },
    "tags": []
   },
   "outputs": [],
   "source": [
    "def makeAstDataFrame(path:str) -> pd.DataFrame:\n",
    "    \"\"\"\n",
    "    Used to obtain a DataFrame object of the astrosat\n",
    "    catalog of observations.\n",
    "    \n",
    "    path - path to the text file containing the catalog\n",
    "    \"\"\"\n",
    "    astArray = []\n",
    "    with open(path, \"r\") as f:\n",
    "        for line in f.read().strip().split(\"\\n\"):\n",
    "            datas = line.strip().split(\"\\t\")\n",
    "            datas = datas[1:6]+datas[6].split(\":: \")+datas[7:]\n",
    "            if datas[-1] == None:\n",
    "                datas.insert(5, \"\")\n",
    "                del datas[-1]\n",
    "            astArray.append(datas)\n",
    "        df = pd.DataFrame(data=astArray)\n",
    "        return df"
   ]
  },
  {
   "cell_type": "code",
   "execution_count": null,
   "id": "hidden-marriage",
   "metadata": {
    "execution": {
     "iopub.status.busy": "2021-03-21T11:17:32.406775Z",
     "iopub.status.idle": "2021-03-21T11:17:32.406775Z",
     "shell.execute_reply": "2021-03-21T11:17:32.406775Z"
    },
    "tags": []
   },
   "outputs": [],
   "source": [
    "def isObserved(data:pd.DataFrame, obs:pd.DataFrame, n:int) -> bool:\n",
    "    \"\"\"\n",
    "    Used to check if the object of interest is observed by Astrosat.\n",
    "    \n",
    "    data - the DataFrame of obsevations\n",
    "    obs - the DataFrame of observations by Astrosat\n",
    "    n - the object of interest\n",
    "    \"\"\"\n",
    "    identifiers = getIdentifier(data, n)\n",
    "    for identifier in identifiers:\n",
    "        if identifier in list(obs[6]):\n",
    "            return True\n",
    "        else:\n",
    "            return False"
   ]
  },
  {
   "cell_type": "code",
   "execution_count": 35,
   "id": "hundred-florist",
   "metadata": {
    "execution": {
     "iopub.execute_input": "2021-03-21T11:56:24.888139Z",
     "iopub.status.busy": "2021-03-21T11:56:24.888139Z",
     "iopub.status.idle": "2021-03-21T11:56:24.903146Z",
     "shell.execute_reply": "2021-03-21T11:56:24.902154Z",
     "shell.execute_reply.started": "2021-03-21T11:56:24.888139Z"
    },
    "tags": []
   },
   "outputs": [],
   "source": [
    "def makeBibDataFrame(path:str) -> pd.DataFrame:\n",
    "    \"\"\"\n",
    "    Used to obtain a DataFrame object of the astrosat\n",
    "    publication catalog.\n",
    "    \n",
    "    path - path to the text file containing the catalog\n",
    "    \"\"\"\n",
    "    bibArray = []\n",
    "    with open(path, \"r\", encoding='utf-8') as f:\n",
    "        LABELS = [\"title\",\"authors\",\"bibcode\",\"url\"]\n",
    "        file = f.read().strip()\n",
    "        papers = file.split(\"\\n\\n\\n\")\n",
    "        for paper in papers:\n",
    "            fields = paper.split(\"\\n\")\n",
    "            fields = fields[:3]+[fields[-1]]\n",
    "            fields[0] = fields[0].strip()[7:].strip()\n",
    "            fields[1] = fields[1].strip()[9:].strip()\n",
    "            fields[2] = fields[2].strip().replace(\"Bibliographic Code:\",\"\").strip()\n",
    "            fields[3] = fields[3].strip().replace(\"URL: <a href=\\\"\",\"\")[:-26].strip()\n",
    "            bibArray.append(fields)\n",
    "        df = pd.DataFrame(data=bibArray,columns=LABELS)\n",
    "        return df"
   ]
  },
  {
   "cell_type": "code",
   "execution_count": null,
   "id": "czech-winter",
   "metadata": {
    "execution": {
     "iopub.status.busy": "2021-03-21T11:17:32.407783Z",
     "iopub.status.idle": "2021-03-21T11:17:32.408775Z",
     "shell.execute_reply": "2021-03-21T11:17:32.408775Z"
    },
    "tags": []
   },
   "outputs": [],
   "source": [
    "def isReferred(data:pd.DataFrame, bib:pd.DataFrame, n:int) -> bool:\n",
    "    \"\"\"\n",
    "    Used to check if the object of interest is referred in any\n",
    "    of the papers in the catalog.\n",
    "\n",
    "    data - the DataFrame of obsevations\n",
    "    bib - the DataFrame of publications referring astrosat data\n",
    "    n - the object of interest\n",
    "    \"\"\"\n",
    "    bibcodes = getBibcodes(data, n)\n",
    "    for bibcode in bibcodes:\n",
    "        if bibcode in list(bib[\"bibcode\"]):\n",
    "            return True\n",
    "        else:\n",
    "            return False"
   ]
  },
  {
   "cell_type": "code",
   "execution_count": null,
   "id": "crazy-member",
   "metadata": {
    "execution": {
     "iopub.status.busy": "2021-03-21T11:17:32.408775Z",
     "iopub.status.idle": "2021-03-21T11:17:32.408775Z",
     "shell.execute_reply": "2021-03-21T11:17:32.408775Z"
    },
    "tags": []
   },
   "outputs": [],
   "source": [
    "def combDataFrames(data:pd.DataFrame, bib:pd.DataFrame, obs:pd.DataFrame) -> pd.DataFrame:\n",
    "    \"\"\"\n",
    "    Combines the with the original data frame the columns\n",
    "    for whether the objects are observed by astrosat\n",
    "    and whether any publications referred them.\n",
    "    \"\"\"\n",
    "    observed = []\n",
    "    referred = []\n",
    "    for _ in range(len(data)):\n",
    "        if isObserved(data, obs, _):\n",
    "            observed.append(True)\n",
    "        else:\n",
    "            observed.append(False)\n",
    "        if isReferred(data, bib, _):\n",
    "            referred.append(True)\n",
    "        else:\n",
    "            referred.append(False)\n",
    "    df = data\n",
    "    df[\"isObserved\"]=observed\n",
    "    df[\"isReferred\"]=referred\n",
    "    return df"
   ]
  },
  {
   "cell_type": "code",
   "execution_count": null,
   "id": "aggregate-welcome",
   "metadata": {
    "execution": {
     "iopub.status.busy": "2021-03-21T11:17:32.410776Z",
     "iopub.status.idle": "2021-03-21T11:17:32.410776Z",
     "shell.execute_reply": "2021-03-21T11:17:32.410776Z"
    },
    "tags": []
   },
   "outputs": [],
   "source": [
    "obs = makeAstDataFrame(r\"./data/AS_observations_cat_Sept2018.txt\");\n",
    "bib = makeBibDataFrame(r\"./data/AS_publications2019-21.txt\");"
   ]
  }
 ],
 "metadata": {
  "kernelspec": {
   "display_name": "Python 3",
   "language": "python",
   "name": "python3"
  },
  "language_info": {
   "codemirror_mode": {
    "name": "ipython",
    "version": 3
   },
   "file_extension": ".py",
   "mimetype": "text/x-python",
   "name": "python",
   "nbconvert_exporter": "python",
   "pygments_lexer": "ipython3",
   "version": "3.9.2"
  },
  "toc-autonumbering": false,
  "toc-showcode": false,
  "toc-showmarkdowntxt": true,
  "toc-showtags": true
 },
 "nbformat": 4,
 "nbformat_minor": 5
}
