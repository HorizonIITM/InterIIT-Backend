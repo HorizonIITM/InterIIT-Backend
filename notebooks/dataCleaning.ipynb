{
 "cells": [
  {
   "cell_type": "code",
   "execution_count": 1,
   "id": "assigned-yacht",
   "metadata": {
    "execution": {
     "iopub.execute_input": "2021-03-21T11:17:30.541642Z",
     "iopub.status.busy": "2021-03-21T11:17:30.540633Z",
     "iopub.status.idle": "2021-03-21T11:17:32.024362Z",
     "shell.execute_reply": "2021-03-21T11:17:32.023359Z",
     "shell.execute_reply.started": "2021-03-21T11:17:30.541642Z"
    },
    "tags": []
   },
   "outputs": [],
   "source": [
    "import pandas as pd\n",
    "import requests"
   ]
  },
  {
   "cell_type": "code",
   "execution_count": 28,
   "id": "centered-commander",
   "metadata": {
    "execution": {
     "iopub.execute_input": "2021-03-21T11:50:21.394332Z",
     "iopub.status.busy": "2021-03-21T11:50:21.393336Z",
     "iopub.status.idle": "2021-03-21T11:50:21.403321Z",
     "shell.execute_reply": "2021-03-21T11:50:21.402320Z",
     "shell.execute_reply.started": "2021-03-21T11:50:21.394332Z"
    }
   },
   "outputs": [],
   "source": [
    "OBS_CAT = r\"./data/AS_observations_cat_Sept2018.txt\"\n",
    "BIB_CAT = r\"./data/AS_publications2019-21.txt\""
   ]
  },
  {
   "cell_type": "code",
   "execution_count": 2,
   "id": "casual-toner",
   "metadata": {
    "execution": {
     "iopub.execute_input": "2021-03-21T11:17:32.027361Z",
     "iopub.status.busy": "2021-03-21T11:17:32.026364Z",
     "iopub.status.idle": "2021-03-21T11:17:32.040364Z",
     "shell.execute_reply": "2021-03-21T11:17:32.039371Z",
     "shell.execute_reply.started": "2021-03-21T11:17:32.027361Z"
    },
    "tags": []
   },
   "outputs": [],
   "source": [
    "def byteIndexDict(path:str, lines:list, byteC:list, labelC:list)->dict:\n",
    "    \"\"\"\n",
    "    Reads the README file for the byte-to-byte description of the\n",
    "    dat files and makes a dictionary of data labels and their indices.\n",
    "    To be used inside a function to retrieve data from dat file and\n",
    "    make a DataFrame object out of it.\n",
    "    \n",
    "    path - path to the README file\n",
    "    lines - list containing starting and ending index of relevant lines\n",
    "    byteC - column number of the byte indices\n",
    "    labelC - column number of the label\n",
    "    \"\"\"\n",
    "    with open(path,\"r\") as f: \n",
    "        def isValid(line):\n",
    "            return line[byteC[0]:byteC[1]]!=7*\" \" and line[labelC[0]:labelC[1]]!=3*\"-\"\n",
    "        descLines = f.readlines()[lines[0]:lines[1]]\n",
    "        byteIndex = [[int(byt) for byt in line[byteC[0]:byteC[1]].split(\"-\")] \n",
    "                     for line in descLines if isValid(line)]\n",
    "        dataLabel = [line[labelC[0]:labelC[1]].strip() \n",
    "                     for line in descLines if isValid(line)]\n",
    "        byteDict = {}\n",
    "        for _ in range(len(byteIndex)):\n",
    "            byteDict[dataLabel[_]]=byteIndex[_]\n",
    "        return byteDict"
   ]
  },
  {
   "cell_type": "code",
   "execution_count": 3,
   "id": "strategic-venice",
   "metadata": {
    "execution": {
     "iopub.execute_input": "2021-03-21T11:17:32.041365Z",
     "iopub.status.busy": "2021-03-21T11:17:32.041365Z",
     "iopub.status.idle": "2021-03-21T11:17:32.055366Z",
     "shell.execute_reply": "2021-03-21T11:17:32.055366Z",
     "shell.execute_reply.started": "2021-03-21T11:17:32.041365Z"
    },
    "tags": []
   },
   "outputs": [],
   "source": [
    "testDict = byteIndexDict(r\"./ReadMe\", [64,130], [1,8], [23,32])"
   ]
  },
  {
   "cell_type": "code",
   "execution_count": 4,
   "id": "rapid-diagram",
   "metadata": {
    "execution": {
     "iopub.execute_input": "2021-03-21T11:17:32.057368Z",
     "iopub.status.busy": "2021-03-21T11:17:32.057368Z",
     "iopub.status.idle": "2021-03-21T11:17:32.072372Z",
     "shell.execute_reply": "2021-03-21T11:17:32.071369Z",
     "shell.execute_reply.started": "2021-03-21T11:17:32.057368Z"
    },
    "tags": []
   },
   "outputs": [],
   "source": [
    "def makeObsDataFrame(path:str, desc:dict) -> pd.DataFrame:\n",
    "    \"\"\"\n",
    "    Takes in .dat file and a byte-to-byte description dict\n",
    "    to yeild a DataFrame equivalent of the dat file.\n",
    "    \n",
    "    path - path to the dat file\n",
    "    desc - dict file containing the label and indices of data\n",
    "    \"\"\"\n",
    "    dataArray = []\n",
    "    with open(path, 'r') as f:\n",
    "        for line in f.readlines():\n",
    "            line = line[:-2]\n",
    "            data = []\n",
    "            for label in list(desc):\n",
    "                index = desc[label]\n",
    "                if len(index)==1:\n",
    "                    index *= 2\n",
    "                data.append(line[index[0]-1:index[1]].strip())\n",
    "            dataArray.append(data)\n",
    "        df = pd.DataFrame(data=dataArray, columns=list(desc))\n",
    "        return df"
   ]
  },
  {
   "cell_type": "code",
   "execution_count": 5,
   "id": "foster-garden",
   "metadata": {
    "execution": {
     "iopub.execute_input": "2021-03-21T11:17:32.073371Z",
     "iopub.status.busy": "2021-03-21T11:17:32.073371Z",
     "iopub.status.idle": "2021-03-21T11:17:32.103241Z",
     "shell.execute_reply": "2021-03-21T11:17:32.103241Z",
     "shell.execute_reply.started": "2021-03-21T11:17:32.073371Z"
    },
    "tags": []
   },
   "outputs": [],
   "source": [
    "lmxb = makeObsDataFrame(r\"./data/lmxbcat.dat\",testDict);\n",
    "hmxb = makeObsDataFrame(r\"./data/hmxbcat.dat\",testDict);"
   ]
  },
  {
   "cell_type": "code",
   "execution_count": 6,
   "id": "american-vulnerability",
   "metadata": {
    "execution": {
     "iopub.execute_input": "2021-03-21T11:17:32.105245Z",
     "iopub.status.busy": "2021-03-21T11:17:32.104250Z",
     "iopub.status.idle": "2021-03-21T11:17:32.118485Z",
     "shell.execute_reply": "2021-03-21T11:17:32.118485Z",
     "shell.execute_reply.started": "2021-03-21T11:17:32.105245Z"
    },
    "tags": []
   },
   "outputs": [],
   "source": [
    "def _coordsQuery(data: pd.DataFrame, n: int, rad: float):\n",
    "    \"\"\"\n",
    "    Transient function to be used inside coordinatesQuery\n",
    "    for abstraction purposes.\n",
    "    \n",
    "    rad - the radius used in SIMBAD queries\n",
    "    \"\"\"\n",
    "    line = data.iloc[n]\n",
    "    PREFIX = r\"http://simbad.u-strasbg.fr/simbad/sim-coo?output.format=ASCII&Coord=\"\n",
    "    query = requests.get(PREFIX+r\"{}%20{}%20{}%20{}{}%20{}%20{}&Radius={}\".format(\n",
    "        line[\"RAh\"],line[\"RAm\"],line[\"RAs\"],line[\"DE-\"],line[\"DEd\"],line[\"DEm\"],line[\"DEs\"],rad))\n",
    "    return query.text"
   ]
  },
  {
   "cell_type": "code",
   "execution_count": 7,
   "id": "interim-covering",
   "metadata": {
    "execution": {
     "iopub.execute_input": "2021-03-21T11:17:32.119486Z",
     "iopub.status.busy": "2021-03-21T11:17:32.119486Z",
     "iopub.status.idle": "2021-03-21T11:17:32.135324Z",
     "shell.execute_reply": "2021-03-21T11:17:32.134323Z",
     "shell.execute_reply.started": "2021-03-21T11:17:32.119486Z"
    },
    "tags": []
   },
   "outputs": [],
   "source": [
    "def coordinatesQuery(data:pd.DataFrame, n:int):\n",
    "    \"\"\"\n",
    "    Queries SIMBAD for data at n-th row in data object\n",
    "    by choosing a suitable radius of query so as to\n",
    "    obtain the unique result.\n",
    "    \n",
    "    data - DataFrame object of the observation data\n",
    "    n - row index of object to query\n",
    "    \"\"\"\n",
    "    rad = 0.01\n",
    "    STEP = 0.005\n",
    "    query = _coordsQuery(data, n, rad)\n",
    "    def isFiltered(inp):\n",
    "        if inp[:33]==\"!! No astronomical object found :\":\n",
    "            return 2\n",
    "        elif inp.split(\"\\n\\n\")[2][:19]==\"Number of objects :\":\n",
    "            return -1\n",
    "    while(bool(isFiltered(query))):\n",
    "        rad += STEP*isFiltered(query)\n",
    "        query = _coordsQuery(data, n, rad)\n",
    "    return query"
   ]
  },
  {
   "cell_type": "code",
   "execution_count": 8,
   "id": "super-patient",
   "metadata": {
    "execution": {
     "iopub.execute_input": "2021-03-21T11:17:32.136323Z",
     "iopub.status.busy": "2021-03-21T11:17:32.136323Z",
     "iopub.status.idle": "2021-03-21T11:17:32.151278Z",
     "shell.execute_reply": "2021-03-21T11:17:32.150284Z",
     "shell.execute_reply.started": "2021-03-21T11:17:32.136323Z"
    },
    "tags": []
   },
   "outputs": [],
   "source": [
    "def _coordinatesQuery(data:pd.DataFrame, n:int, flag):\n",
    "    \"\"\"\n",
    "    Queries SIMBAD for data at n-th row in data object\n",
    "    by choosing a suitable radius of query so as to\n",
    "    obtain the unique result.\n",
    "    \n",
    "    data - DataFrame object of the observation data\n",
    "    n - row index of object to query\n",
    "    \"\"\"\n",
    "    rad = 0.01\n",
    "    STEP = 0.001\n",
    "    query = _coordsQuery(data, n, rad)\n",
    "    count = [0,0]\n",
    "    factor = 0\n",
    "    shdLoop = True\n",
    "    while(shdLoop):\n",
    "        if query[0]==\"!\":\n",
    "            count[0]+=1\n",
    "            if count[0] > 3:\n",
    "                factor = count[0]**2\n",
    "            else:\n",
    "                factor = 1\n",
    "        elif query.split(\"\\n\\n\")[2][0]==\"N\":\n",
    "            count[1]+=1\n",
    "            if count[1] > 3:\n",
    "                factor = -count[1]**2\n",
    "            else:\n",
    "                factor = -1\n",
    "        else:\n",
    "            shdLoop = False\n",
    "            continue\n",
    "        rad += STEP*factor\n",
    "        if rad < 0:\n",
    "            rad = rad*STEP\n",
    "        if flag:\n",
    "            print(rad)\n",
    "        query = _coordsQuery(data, n, rad)\n",
    "    return query"
   ]
  },
  {
   "cell_type": "code",
   "execution_count": 9,
   "id": "damaged-catalog",
   "metadata": {
    "execution": {
     "iopub.execute_input": "2021-03-21T11:17:32.153292Z",
     "iopub.status.busy": "2021-03-21T11:17:32.153292Z",
     "iopub.status.idle": "2021-03-21T11:17:32.166280Z",
     "shell.execute_reply": "2021-03-21T11:17:32.165281Z",
     "shell.execute_reply.started": "2021-03-21T11:17:32.153292Z"
    },
    "tags": []
   },
   "outputs": [],
   "source": [
    "def getIdentifier(data:pd.DataFrame, n:int):\n",
    "    \"\"\"\n",
    "    Retrieves a list of identifiers of the object in interest\n",
    "    \n",
    "    data - DataFrame object containing the observation data\n",
    "    n - the object of observation in interest\n",
    "    \"\"\"\n",
    "    identifiers = []\n",
    "    for fields in _coordinatesQuery(data, n, 0).split(\"\\n\\n\"):\n",
    "        if fields[:11]==\"Identifiers\":\n",
    "            lines = fields.split(\"\\n\")\n",
    "            for j in lines[1:]:\n",
    "                for k in range(3):\n",
    "                    identifiers.append(j[k*32:(k+1)*32].strip())\n",
    "    return [i for i in identifiers if i!=\"\"]"
   ]
  },
  {
   "cell_type": "code",
   "execution_count": 10,
   "id": "hearing-party",
   "metadata": {
    "execution": {
     "iopub.execute_input": "2021-03-21T11:17:32.167281Z",
     "iopub.status.busy": "2021-03-21T11:17:32.166280Z",
     "iopub.status.idle": "2021-03-21T11:17:32.181299Z",
     "shell.execute_reply": "2021-03-21T11:17:32.181299Z",
     "shell.execute_reply.started": "2021-03-21T11:17:32.167281Z"
    },
    "tags": []
   },
   "outputs": [],
   "source": [
    "def getBibcodes(data:pd.DataFrame, n:int):\n",
    "    \"\"\"\n",
    "    Retrieves a list of bibcodes of the object in interest\n",
    "    \n",
    "    data - DataFrame object containing the observation data\n",
    "    n - the object of observation in interest\n",
    "    \"\"\"\n",
    "    identifiers = []\n",
    "    for fields in _coordinatesQuery(data, n, 0).split(\"\\n\\n\"):\n",
    "        if fields[:8]==\"Bibcodes\":\n",
    "            lines = fields.split(\"\\n\")\n",
    "            for j in lines[1:]:\n",
    "                for k in range(4):\n",
    "                    identifiers.append(j[k*21:(k+1)*21].strip())\n",
    "    return [i for i in identifiers if i!=\"\"]"
   ]
  },
  {
   "cell_type": "code",
   "execution_count": 40,
   "id": "digital-accent",
   "metadata": {
    "execution": {
     "iopub.execute_input": "2021-03-21T15:00:17.603149Z",
     "iopub.status.busy": "2021-03-21T15:00:17.603149Z",
     "iopub.status.idle": "2021-03-21T15:00:17.611138Z",
     "shell.execute_reply": "2021-03-21T15:00:17.609979Z",
     "shell.execute_reply.started": "2021-03-21T15:00:17.603149Z"
    },
    "tags": []
   },
   "outputs": [],
   "source": [
    "def makeAstDataFrame(path:str) -> pd.DataFrame:\n",
    "    \"\"\"\n",
    "    Used to obtain a DataFrame object of the astrosat\n",
    "    catalog of observations.\n",
    "    \n",
    "    path - path to the text file containing the catalog\n",
    "    \"\"\"\n",
    "    astArray = []\n",
    "    with open(path, \"r\") as f:\n",
    "        for line in f.read().strip().split(\"\\n\"):\n",
    "            datas = line.strip().split(\"\\t\")\n",
    "            datas = datas[1:6]+datas[6].split(\":: \")+datas[7:]\n",
    "            if datas[-1] == None:\n",
    "                datas.insert(5, \"\")\n",
    "                del datas[-1]\n",
    "            astArray.append(datas)\n",
    "        df = pd.DataFrame(data=astArray)\n",
    "        return df"
   ]
  },
  {
   "cell_type": "code",
   "execution_count": null,
   "id": "tribal-columbus",
   "metadata": {
    "execution": {
     "iopub.status.busy": "2021-03-21T11:17:32.406775Z",
     "iopub.status.idle": "2021-03-21T11:17:32.406775Z",
     "shell.execute_reply": "2021-03-21T11:17:32.406775Z"
    },
    "tags": []
   },
   "outputs": [],
   "source": [
    "def isObserved(data:pd.DataFrame, obs:pd.DataFrame, n:int) -> bool:\n",
    "    \"\"\"\n",
    "    Used to check if the object of interest is observed by Astrosat.\n",
    "    \n",
    "    data - the DataFrame of obsevations\n",
    "    obs - the DataFrame of observations by Astrosat\n",
    "    n - the object of interest\n",
    "    \"\"\"\n",
    "    identifiers = getIdentifier(data, n)\n",
    "    for identifier in identifiers:\n",
    "        if identifier in list(obs[6]):\n",
    "            return True\n",
    "        else:\n",
    "            return False"
   ]
  },
  {
   "cell_type": "code",
   "execution_count": 35,
   "id": "governing-lodge",
   "metadata": {
    "execution": {
     "iopub.execute_input": "2021-03-21T11:56:24.888139Z",
     "iopub.status.busy": "2021-03-21T11:56:24.888139Z",
     "iopub.status.idle": "2021-03-21T11:56:24.903146Z",
     "shell.execute_reply": "2021-03-21T11:56:24.902154Z",
     "shell.execute_reply.started": "2021-03-21T11:56:24.888139Z"
    },
    "tags": []
   },
   "outputs": [],
   "source": [
    "def makeBibDataFrame(path:str) -> pd.DataFrame:\n",
    "    \"\"\"\n",
    "    Used to obtain a DataFrame object of the astrosat\n",
    "    publication catalog.\n",
    "    \n",
    "    path - path to the text file containing the catalog\n",
    "    \"\"\"\n",
    "    bibArray = []\n",
    "    with open(path, \"r\", encoding='utf-8') as f:\n",
    "        LABELS = [\"title\",\"authors\",\"bibcode\",\"url\"]\n",
    "        file = f.read().strip()\n",
    "        papers = file.split(\"\\n\\n\\n\")\n",
    "        for paper in papers:\n",
    "            fields = paper.split(\"\\n\")\n",
    "            fields = fields[:3]+[fields[-1]]\n",
    "            fields[0] = fields[0].strip()[7:].strip()\n",
    "            fields[1] = fields[1].strip()[9:].strip()\n",
    "            fields[2] = fields[2].strip().replace(\"Bibliographic Code:\",\"\").strip()\n",
    "            fields[3] = fields[3].strip().replace(\"URL: <a href=\\\"\",\"\")[:-26].strip()\n",
    "            bibArray.append(fields)\n",
    "        df = pd.DataFrame(data=bibArray,columns=LABELS)\n",
    "        return df"
   ]
  },
  {
   "cell_type": "code",
   "execution_count": null,
   "id": "traditional-organic",
   "metadata": {
    "execution": {
     "iopub.status.busy": "2021-03-21T11:17:32.407783Z",
     "iopub.status.idle": "2021-03-21T11:17:32.408775Z",
     "shell.execute_reply": "2021-03-21T11:17:32.408775Z"
    },
    "tags": []
   },
   "outputs": [],
   "source": [
    "def isReferred(data:pd.DataFrame, bib:pd.DataFrame, n:int) -> bool:\n",
    "    \"\"\"\n",
    "    Used to check if the object of interest is referred in any\n",
    "    of the papers in the catalog.\n",
    "\n",
    "    data - the DataFrame of obsevations\n",
    "    bib - the DataFrame of publications referring astrosat data\n",
    "    n - the object of interest\n",
    "    \"\"\"\n",
    "    bibcodes = getBibcodes(data, n)\n",
    "    for bibcode in bibcodes:\n",
    "        if bibcode in list(bib[\"bibcode\"]):\n",
    "            return True\n",
    "        else:\n",
    "            return False"
   ]
  },
  {
   "cell_type": "code",
   "execution_count": null,
   "id": "departmental-helping",
   "metadata": {
    "execution": {
     "iopub.status.busy": "2021-03-21T11:17:32.408775Z",
     "iopub.status.idle": "2021-03-21T11:17:32.408775Z",
     "shell.execute_reply": "2021-03-21T11:17:32.408775Z"
    },
    "tags": []
   },
   "outputs": [],
   "source": [
    "def combDataFrames(data:pd.DataFrame, bib:pd.DataFrame, obs:pd.DataFrame) -> pd.DataFrame:\n",
    "    \"\"\"\n",
    "    Combines the with the original data frame the columns\n",
    "    for whether the objects are observed by astrosat\n",
    "    and whether any publications referred them.\n",
    "    \"\"\"\n",
    "    observed = []\n",
    "    referred = []\n",
    "    for _ in range(len(data)):\n",
    "        if isObserved(data, obs, _):\n",
    "            observed.append(True)\n",
    "        else:\n",
    "            observed.append(False)\n",
    "        if isReferred(data, bib, _):\n",
    "            referred.append(True)\n",
    "        else:\n",
    "            referred.append(False)\n",
    "    df = data\n",
    "    df[\"isObserved\"]=observed\n",
    "    df[\"isReferred\"]=referred\n",
    "    return df"
   ]
  },
  {
   "cell_type": "code",
   "execution_count": null,
   "id": "outstanding-buyer",
   "metadata": {
    "execution": {
     "iopub.status.busy": "2021-03-21T11:17:32.410776Z",
     "iopub.status.idle": "2021-03-21T11:17:32.410776Z",
     "shell.execute_reply": "2021-03-21T11:17:32.410776Z"
    },
    "tags": []
   },
   "outputs": [],
   "source": [
    "obs = makeAstDataFrame(r\"./data/AS_observations_cat_Sept2018.txt\");\n",
    "bib = makeBibDataFrame(r\"./data/AS_publications2019-21.txt\");"
   ]
  },
  {
   "cell_type": "code",
   "execution_count": null,
   "id": "trained-turner",
   "metadata": {},
   "outputs": [],
   "source": [
    "A = (float(line['RAh']) * 15) + (float(line['RAm']) * 0.25) + (float(line['RAs']) * 0.004166)\n",
    "\n",
    "        B = ( float(line['DEd']) + (float(line['DEm']) / 60) + (float(line['DEs']) / 3600)) * np.sign(float(str(line['DE-'])+str(line['DEd'])))\n",
    "\n",
    "        C = 1\n",
    "        x = (C* cos(B)) * cos(A)\n",
    "        y = (C * cos(B)) * sin(A)\n",
    "        z = C * sin(B)"
   ]
  }
 ],
 "metadata": {
  "kernelspec": {
   "display_name": "Python 3",
   "language": "python",
   "name": "python3"
  },
  "language_info": {
   "codemirror_mode": {
    "name": "ipython",
    "version": 3
   },
   "file_extension": ".py",
   "mimetype": "text/x-python",
   "name": "python",
   "nbconvert_exporter": "python",
   "pygments_lexer": "ipython3",
   "version": "3.9.2"
  },
  "toc-autonumbering": false,
  "toc-showcode": false,
  "toc-showmarkdowntxt": true,
  "toc-showtags": true
 },
 "nbformat": 4,
 "nbformat_minor": 5
}
